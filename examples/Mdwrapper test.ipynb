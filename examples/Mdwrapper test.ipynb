{
 "cells": [
  {
   "cell_type": "code",
   "execution_count": 1,
   "metadata": {
    "collapsed": true,
    "ExecuteTime": {
     "start_time": "2023-04-20T12:53:05.750629Z",
     "end_time": "2023-04-20T12:53:07.135864Z"
    }
   },
   "outputs": [
    {
     "name": "stderr",
     "output_type": "stream",
     "text": [
      "/home/tom/anaconda3/envs/mantid/lib/python3.6/site-packages/h5py/__init__.py:40: UserWarning: h5py is running against HDF5 1.10.0 when it was built against 1.10.6, this may cause problems\n",
      "  '{0}.{1}.{2}'.format(*version.hdf5_built_version_tuple)\n"
     ]
    }
   ],
   "source": [
    "import thpyutils.material as material\n",
    "import thpyutils.neutron.mdwrapper as mdwrapper"
   ]
  },
  {
   "cell_type": "code",
   "execution_count": 2,
   "outputs": [
    {
     "name": "stdout",
     "output_type": "stream",
     "text": [
      "WARNING: Chemical weight not in cif file. Placeholder value used but should be updated manually using: \n",
      " Material.formula_weight=(val)\n",
      "\n",
      "######################\n",
      "\n",
      "a = 5.3489 Ang\n",
      "b = 9.2431 Ang\n",
      "c = 4.8734 Ang\n",
      "alpha = 90.0 Ang\n",
      "beta = 111.44 Ang\n",
      "gamma = 90.0 Ang\n",
      "C 1 2/m 1\n",
      "Space group: C 1 2/m 1\n",
      "Unit Cell Volume =224.27\n",
      "Formula weight = 100.0\n",
      "Formula units per unit cell = 2\n",
      "h3liir2o6.cif imported successfully.\n",
      "\n",
      "###################### \n",
      "\n"
     ]
    }
   ],
   "source": [
    "ciffile = 'h3liir2o6.cif'\n",
    "nxspefile = 'Ir_30p00_3p00_200p00.nxspe'\n",
    "\n",
    "hlio = material.Material(cif_file = ciffile)"
   ],
   "metadata": {
    "collapsed": false,
    "ExecuteTime": {
     "start_time": "2023-04-20T12:53:07.137259Z",
     "end_time": "2023-04-20T12:53:07.165634Z"
    }
   }
  }
 ],
 "metadata": {
  "kernelspec": {
   "display_name": "Python 3",
   "language": "python",
   "name": "python3"
  },
  "language_info": {
   "codemirror_mode": {
    "name": "ipython",
    "version": 2
   },
   "file_extension": ".py",
   "mimetype": "text/x-python",
   "name": "python",
   "nbconvert_exporter": "python",
   "pygments_lexer": "ipython2",
   "version": "2.7.6"
  }
 },
 "nbformat": 4,
 "nbformat_minor": 0
}
